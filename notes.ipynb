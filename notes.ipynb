{
 "cells": [
  {
   "cell_type": "markdown",
   "id": "1d1c679c",
   "metadata": {},
   "source": [
    "Montserrat Thin"
   ]
  }
 ],
 "metadata": {
  "language_info": {
   "name": "python"
  }
 },
 "nbformat": 4,
 "nbformat_minor": 5
}
